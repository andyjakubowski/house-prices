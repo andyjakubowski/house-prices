{
 "cells": [
  {
   "cell_type": "code",
   "execution_count": 3,
   "metadata": {},
   "outputs": [],
   "source": [
    "import pandas as pd\n",
    "import matplotlib.pyplot as plt\n",
    "import seaborn as sns\n",
    "import numpy as np\n",
    "from scipy.stats import norm\n",
    "from sklearn.ensemble import RandomForestRegressor\n",
    "from sklearn.linear_model import LinearRegression\n",
    "from sklearn.pipeline import Pipeline\n",
    "from sklearn.preprocessing import StandardScaler\n",
    "from sklearn.preprocessing import OneHotEncoder\n",
    "from sklearn.impute import SimpleImputer\n",
    "from sklearn.model_selection import train_test_split\n",
    "from sklearn.model_selection import cross_val_score\n",
    "from sklearn.metrics import mean_squared_log_error\n",
    "from sklearn.metrics import mean_squared_error\n",
    "from sklearn.metrics import mean_absolute_error\n",
    "from sklearn.metrics import r2_score\n",
    "from sklearn.metrics import make_scorer\n",
    "from sklearn.compose import ColumnTransformer\n",
    "from sklearn.compose import make_column_selector\n",
    "from scipy import stats\n",
    "from pandas.plotting import scatter_matrix\n",
    "import subprocess\n",
    "%matplotlib inline"
   ]
  },
  {
   "cell_type": "code",
   "execution_count": 18,
   "metadata": {},
   "outputs": [],
   "source": [
    "def load_train_data(split=True):\n",
    "    target = \"SalePrice\"\n",
    "    data = pd.read_csv(\"./train.csv\", index_col=\"Id\")\n",
    "    features = [column for column in data.columns if not column == target]\n",
    "    print(\"load_train_data: done\")\n",
    "    \n",
    "    if split:\n",
    "        return data[features], data[target]\n",
    "    else:\n",
    "        return data\n",
    "    \n",
    "def load_x_test():\n",
    "    return pd.read_csv(\"./test.csv\", index_col=\"Id\");\n",
    "\n",
    "def load_y_true():\n",
    "    y_true = pd.read_csv(\"./solution.csv\", index_col=\"Id\")\n",
    "    return y_true\n",
    "\n",
    "def load_test_data(split=True):\n",
    "    X_test = pd.read_csv(\"./test.csv\", index_col=\"Id\")\n",
    "    y_test = load_y_true()\n",
    "    print(\"load_test_data: done\")\n",
    "    \n",
    "    if split:\n",
    "        return X_test, y_test\n",
    "    else:\n",
    "        return pd.concat([X_test, y_test], axis=\"columns\")\n",
    "    \n",
    "def split_features_target(df, target=\"SalePrice\"):\n",
    "    features = [column for column in df.columns if not column == target]\n",
    "    return df[features], df[target]\n",
    "\n",
    "def root_mean_squared_log_error(y_true, y_pred, transform_negative_predictions=False):\n",
    "    if transform_negative_predictions:\n",
    "        y_pred_tr = [max(prediction, 0) for prediction in y_pred]\n",
    "    else:\n",
    "        y_pred_tr = y_pred\n",
    "    \n",
    "    # same as np.sqrt(np.mean(np.power(np.log(np.array(y_pred_tr) + 1) - np.log(np.array(y_true) + 1), 2)))\n",
    "    return np.sqrt(mean_squared_log_error(y_true, y_pred_tr))\n",
    "\n",
    "rmsle = root_mean_squared_log_error\n",
    "\n",
    "def kaggle_score(y_pred, transform_negative_predictions=False):\n",
    "    y_true = load_y_true()\n",
    "    score = root_mean_squared_log_error(y_true, y_pred, transform_negative_predictions=transform_negative_predictions)\n",
    "    return score\n",
    "\n",
    "def print_kaggle_score(y_pred):\n",
    "    y_true = load_y_true()\n",
    "    score = kaggle_score(y_pred)\n",
    "    print(\"The score is %.5f\" % score)\n",
    "    \n",
    "# Make your own RMSLE (root mean square log error) scorer\n",
    "rmsle_scorer = make_scorer(root_mean_squared_log_error, greater_is_better=False, transform_negative_predictions=True)"
   ]
  },
  {
   "cell_type": "code",
   "execution_count": 10,
   "metadata": {},
   "outputs": [],
   "source": [
    "numeric_pipe = Pipeline([\n",
    "    ('impute_missing_numeric_values', SimpleImputer(strategy=\"median\")),\n",
    "    ('standard_scaler', StandardScaler())\n",
    "])\n",
    "\n",
    "categorical_pipe = Pipeline([\n",
    "    ('impute_missing_categorical_values', SimpleImputer(strategy=\"most_frequent\")),\n",
    "    ('standard_scaler', OneHotEncoder(handle_unknown=\"ignore\"))\n",
    "])\n",
    "\n",
    "preprocessing = ColumnTransformer([\n",
    "        ('numeric', numeric_pipe, make_column_selector(dtype_include=np.number)),\n",
    "        ('categorical', categorical_pipe, make_column_selector(dtype_include=object))\n",
    "    ],\n",
    "    n_jobs=-1)"
   ]
  },
  {
   "cell_type": "markdown",
   "metadata": {},
   "source": [
    "## Random Forest pipe"
   ]
  },
  {
   "cell_type": "markdown",
   "metadata": {},
   "source": [
    "### Train on entire set"
   ]
  },
  {
   "cell_type": "code",
   "execution_count": 17,
   "metadata": {
    "scrolled": true
   },
   "outputs": [
    {
     "name": "stdout",
     "output_type": "stream",
     "text": [
      "load_train_data: done\n",
      "load_test_data: done\n"
     ]
    },
    {
     "data": {
      "text/plain": [
       "0.14686040645660278"
      ]
     },
     "execution_count": 17,
     "metadata": {},
     "output_type": "execute_result"
    }
   ],
   "source": [
    "X_train, y_train = load_train_data()\n",
    "rf = RandomForestRegressor(random_state=42)\n",
    "\n",
    "pipe = Pipeline([\n",
    "    (\"preprocessing\", preprocessing),\n",
    "    (\"random_forest\", rf)\n",
    "])\n",
    "\n",
    "pipe.fit(X_train, y_train)\n",
    "\n",
    "X_test, _ = load_test_data()\n",
    "\n",
    "y_pred = pipe.predict(X_test)\n",
    "kaggle_score(y_pred)"
   ]
  },
  {
   "cell_type": "markdown",
   "metadata": {},
   "source": [
    "### Train with k-fold cross validation"
   ]
  },
  {
   "cell_type": "code",
   "execution_count": 19,
   "metadata": {},
   "outputs": [
    {
     "name": "stdout",
     "output_type": "stream",
     "text": [
      "load_train_data: done\n",
      "load_test_data: done\n"
     ]
    },
    {
     "data": {
      "text/plain": [
       "array([0.13972054, 0.15315697, 0.14414612, 0.1371902 , 0.15551856])"
      ]
     },
     "execution_count": 19,
     "metadata": {},
     "output_type": "execute_result"
    }
   ],
   "source": [
    "X_train, y_train = load_train_data()\n",
    "X_test, _ = load_test_data()\n",
    "rf = RandomForestRegressor(random_state=42)\n",
    "pipe = Pipeline([\n",
    "    (\"preprocessing\", preprocessing),\n",
    "    (\"random_forest\", rf)\n",
    "])\n",
    "scores = cross_val_score(pipe, X_train, y_train, scoring=rmsle_scorer)\n",
    "print(f\"mean score: {np.mean(-scores)}, all cv scores:{-scores}\")"
   ]
  },
  {
   "cell_type": "markdown",
   "metadata": {},
   "source": [
    "## Linear Regression pipe"
   ]
  },
  {
   "cell_type": "code",
   "execution_count": 16,
   "metadata": {},
   "outputs": [
    {
     "name": "stdout",
     "output_type": "stream",
     "text": [
      "load_train_data: done\n",
      "load_test_data: done\n"
     ]
    },
    {
     "data": {
      "text/plain": [
       "0.21188772535392925"
      ]
     },
     "execution_count": 16,
     "metadata": {},
     "output_type": "execute_result"
    }
   ],
   "source": [
    "X_train, y_train = load_train_data()\n",
    "linear_regression = LinearRegression()\n",
    "\n",
    "pipe = Pipeline([\n",
    "    (\"preprocessing\", preprocessing),\n",
    "    (\"random_forest\", linear_regression)\n",
    "])\n",
    "\n",
    "pipe.fit(X_train, y_train)\n",
    "\n",
    "X_test, _ = load_test_data()\n",
    "\n",
    "y_pred = pipe.predict(X_test)\n",
    "kaggle_score(y_pred)"
   ]
  },
  {
   "cell_type": "markdown",
   "metadata": {},
   "source": [
    "### For reference"
   ]
  },
  {
   "cell_type": "code",
   "execution_count": null,
   "metadata": {},
   "outputs": [],
   "source": [
    "\n",
    "# From /Users/andy/repos/housing, or https://github.com/jvanelteren/housing\n",
    "def get_pipeline(model, impute_cat='default', impute_num = 'default', scale='default',onehot='default',remove_outliers='default'):\n",
    "    # in essence this splits the input into a categorical pipeline and a numeric pipeline\n",
    "    # merged with a ColumnTransformer\n",
    "    # on top a model is plugged (within OutlierExtractor if remove_outliers = True)\n",
    "    # this works very nicely!\n",
    "\n",
    "    cat_steps = []\n",
    "    if impute_cat=='default':\n",
    "        cat_steps.append(('impute_cat', DFSimpleImputer(strategy='constant',fill_value='None')))\n",
    "    elif impute_cat:\n",
    "        cat_steps.append(('impute_cat', impute_cat))\n",
    "    \n",
    "    if onehot == 'default':\n",
    "        cat_steps.append(('cat_to_num', DFGetDummies()))\n",
    "    elif onehot: \n",
    "        cat_steps.append(('cat_to_num', onehot))\n",
    "        # equal to: cat_steps.append(('cat_to_num', DFOneHotEncoder(handle_unknown=\"ignore\")))\n",
    "    categorical_transformer = Pipeline(steps=cat_steps)\n",
    "\n",
    "    num_steps = []\n",
    "    if impute_num == 'default':\n",
    "        num_steps.append(('impute_num', DFSimpleImputer(strategy='mean')))\n",
    "    elif impute_num:\n",
    "        num_steps.append(('impute_num', impute_num))\n",
    "    \n",
    "    if scale == 'default': \n",
    "        num_steps.append(('scale_num', DFStandardScaler()))\n",
    "    elif scale:\n",
    "        num_steps.append(('scale_num', scale))\n",
    "\n",
    "    numeric_transformer = Pipeline(steps=num_steps)\n",
    "\n",
    "    col_trans = DFColumnTransformer(transformers=[\n",
    "        ('numeric', numeric_transformer, make_column_selector(dtype_include=np.number)),\n",
    "        ('category', categorical_transformer, make_column_selector(dtype_exclude=np.number)),\n",
    "        ])\n",
    "    \n",
    "    preprocessor_steps = [('col_trans', col_trans)]\n",
    "    preprocessor = Pipeline(steps=preprocessor_steps,memory=memory)\n",
    "\n",
    "    final_pipe = [('preprocess', preprocessor)]\n",
    "    if remove_outliers == 'default': \n",
    "        final_pipe.append(('model',model))\n",
    "    elif remove_outliers:\n",
    "        final_pipe.append(('model',remove_outliers)) # DFOutlierExtractor(model, corruption=0.005)\n",
    "\n",
    "    return Pipeline(steps=final_pipe)"
   ]
  }
 ],
 "metadata": {
  "kernelspec": {
   "display_name": "kaggle",
   "language": "python",
   "name": "kaggle"
  },
  "language_info": {
   "codemirror_mode": {
    "name": "ipython",
    "version": 3
   },
   "file_extension": ".py",
   "mimetype": "text/x-python",
   "name": "python",
   "nbconvert_exporter": "python",
   "pygments_lexer": "ipython3",
   "version": "3.8.6"
  }
 },
 "nbformat": 4,
 "nbformat_minor": 4
}
