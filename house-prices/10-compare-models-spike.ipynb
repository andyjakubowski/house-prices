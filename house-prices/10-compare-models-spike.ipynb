{
 "cells": [
  {
   "cell_type": "code",
   "execution_count": 1,
   "metadata": {},
   "outputs": [],
   "source": [
    "import pandas as pd\n",
    "import matplotlib.pyplot as plt\n",
    "import seaborn as sns\n",
    "import numpy as np\n",
    "from scipy.stats import norm\n",
    "from sklearn.ensemble import RandomForestRegressor\n",
    "from sklearn.linear_model import LinearRegression, Ridge, RidgeCV, Lasso, LassoCV, ElasticNet, SGDRegressor\n",
    "from sklearn.pipeline import Pipeline\n",
    "from sklearn.preprocessing import StandardScaler\n",
    "from sklearn.preprocessing import OneHotEncoder\n",
    "from sklearn.impute import SimpleImputer\n",
    "from sklearn.model_selection import train_test_split\n",
    "from sklearn.model_selection import cross_val_score\n",
    "from sklearn.metrics import mean_squared_log_error\n",
    "from sklearn.metrics import mean_squared_error\n",
    "from sklearn.metrics import mean_absolute_error\n",
    "from sklearn.metrics import r2_score\n",
    "from sklearn.metrics import make_scorer\n",
    "from sklearn.compose import ColumnTransformer\n",
    "from sklearn.compose import make_column_selector\n",
    "from scipy import stats\n",
    "from pandas.plotting import scatter_matrix\n",
    "import subprocess\n",
    "%matplotlib inline"
   ]
  },
  {
   "cell_type": "markdown",
   "metadata": {},
   "source": [
    "## Save Kaggle submission file\n",
    "---"
   ]
  },
  {
   "cell_type": "code",
   "execution_count": 23,
   "metadata": {},
   "outputs": [],
   "source": [
    "def submission_df(y_pred):\n",
    "    X_test = load_x_test()\n",
    "    return pd.DataFrame(y_pred, index=X_test.index, columns=[\"SalePrice\"])\n",
    "\n",
    "def save_submission_file(y_pred, filename):\n",
    "    df = submission_df(y_pred)\n",
    "    path = \"./\" + filename\n",
    "\n",
    "    try:\n",
    "        df.to_csv(path)\n",
    "    except Exception:\n",
    "        print(\"Couldn’t save submission.\")\n",
    "    else:\n",
    "        print(\"Submission saved.\")"
   ]
  },
  {
   "cell_type": "markdown",
   "metadata": {},
   "source": [
    "## Submit score to Kaggle\n",
    "---"
   ]
  },
  {
   "cell_type": "code",
   "execution_count": 24,
   "metadata": {},
   "outputs": [],
   "source": [
    "def submit_score_to_kaggle(y_pred, filename, message):\n",
    "    save_submission_file(y_pred, filename)\n",
    "\n",
    "    completed_process = subprocess.run(\n",
    "        [\n",
    "            \"kaggle\",\n",
    "            \"competitions\",\n",
    "            \"submit\",\n",
    "            \"-c\",\n",
    "            \"house-prices-advanced-regression-techniques\",\n",
    "            \"-f\",\n",
    "            filename,\n",
    "            \"-m\",\n",
    "            message\n",
    "        ], \n",
    "        capture_output=True,\n",
    "        text=True\n",
    "    )\n",
    "    \n",
    "    print(completed_process.stdout)"
   ]
  },
  {
   "cell_type": "code",
   "execution_count": 11,
   "metadata": {},
   "outputs": [],
   "source": [
    "def load_train_data(split=True):\n",
    "    target = \"SalePrice\"\n",
    "    data = pd.read_csv(\"./train.csv\", index_col=\"Id\")\n",
    "    features = [column for column in data.columns if not column == target]\n",
    "    print(\"load_train_data: done\")\n",
    "    \n",
    "    if split:\n",
    "        return data[features], data[target]\n",
    "    else:\n",
    "        return data\n",
    "    \n",
    "def load_x_test():\n",
    "    return pd.read_csv(\"./test.csv\", index_col=\"Id\");\n",
    "\n",
    "def load_y_true():\n",
    "    y_true = pd.read_csv(\"./solution.csv\", index_col=\"Id\")\n",
    "    return y_true\n",
    "\n",
    "def load_test_data(split=True):\n",
    "    X_test = pd.read_csv(\"./test.csv\", index_col=\"Id\")\n",
    "    y_test = load_y_true()\n",
    "    print(\"load_test_data: done\")\n",
    "    \n",
    "    if split:\n",
    "        return X_test, y_test\n",
    "    else:\n",
    "        return pd.concat([X_test, y_test], axis=\"columns\")\n",
    "    \n",
    "def split_features_target(df, target=\"SalePrice\"):\n",
    "    features = [column for column in df.columns if not column == target]\n",
    "    return df[features], df[target]\n",
    "\n",
    "def root_mean_squared_log_error(y_true, y_pred, transform_negative_predictions=False):\n",
    "    if transform_negative_predictions:\n",
    "        y_pred_tr = [max(prediction, 0) for prediction in y_pred]\n",
    "    else:\n",
    "        y_pred_tr = y_pred\n",
    "    \n",
    "    # same as np.sqrt(np.mean(np.power(np.log(np.array(y_pred_tr) + 1) - np.log(np.array(y_true) + 1), 2)))\n",
    "    return np.sqrt(mean_squared_log_error(y_true, y_pred_tr))\n",
    "\n",
    "rmsle = root_mean_squared_log_error\n",
    "\n",
    "def kaggle_score(y_pred, transform_negative_predictions=False):\n",
    "    y_true = load_y_true()\n",
    "    score = root_mean_squared_log_error(y_true, y_pred, transform_negative_predictions=transform_negative_predictions)\n",
    "    return score\n",
    "\n",
    "def print_kaggle_score(y_pred):\n",
    "    y_true = load_y_true()\n",
    "    score = kaggle_score(y_pred)\n",
    "    print(\"The score is %.5f\" % score)\n",
    "    \n",
    "# Make your own RMSLE (root mean square log error) scorer\n",
    "rmsle_scorer = make_scorer(root_mean_squared_log_error, greater_is_better=False, transform_negative_predictions=True)"
   ]
  },
  {
   "cell_type": "markdown",
   "metadata": {},
   "source": [
    "## Fit multiple models at once"
   ]
  },
  {
   "cell_type": "code",
   "execution_count": 9,
   "metadata": {},
   "outputs": [],
   "source": [
    "def get_pipe(model):\n",
    "    numeric_pipe = Pipeline([\n",
    "        ('impute_missing_numeric_values', SimpleImputer(strategy=\"median\")),\n",
    "        ('standard_scaler', StandardScaler())\n",
    "    ])\n",
    "\n",
    "    categorical_pipe = Pipeline([\n",
    "        ('impute_missing_categorical_values', SimpleImputer(strategy=\"most_frequent\")),\n",
    "        ('standard_scaler', OneHotEncoder(handle_unknown=\"ignore\"))\n",
    "    ])\n",
    "\n",
    "    preprocessing = ColumnTransformer([\n",
    "        ('numeric', numeric_pipe, make_column_selector(dtype_include=np.number)),\n",
    "        ('categorical', categorical_pipe, make_column_selector(dtype_include=object))\n",
    "    ],\n",
    "    n_jobs=-1)\n",
    "    \n",
    "    pipe = Pipeline([\n",
    "        (\"preprocessing\", preprocessing),\n",
    "        (\"model\", model)\n",
    "    ])\n",
    "    \n",
    "    return pipe"
   ]
  },
  {
   "cell_type": "code",
   "execution_count": 21,
   "metadata": {},
   "outputs": [],
   "source": [
    "def fit_evaluate(model):\n",
    "    X_train, y_train = load_train_data()\n",
    "    pipe = get_pipe(model)\n",
    "    pipe.fit(X_train, y_train)\n",
    "    X_test, _ = load_test_data()\n",
    "    y_pred = pipe.predict(X_test)\n",
    "    result = {\n",
    "        \"model\": type(model).__name__,\n",
    "        \"kaggle_score\": kaggle_score(y_pred),\n",
    "        \"y_pred\": y_pred,\n",
    "    }\n",
    "    return result"
   ]
  },
  {
   "cell_type": "code",
   "execution_count": 22,
   "metadata": {},
   "outputs": [
    {
     "name": "stdout",
     "output_type": "stream",
     "text": [
      "load_train_data: done\n",
      "load_test_data: done\n",
      "load_train_data: done\n",
      "load_test_data: done\n",
      "load_train_data: done\n",
      "load_test_data: done\n",
      "load_train_data: done\n",
      "load_test_data: done\n",
      "load_train_data: done\n",
      "load_test_data: done\n",
      "load_train_data: done\n",
      "load_test_data: done\n",
      "load_train_data: done\n",
      "load_test_data: done\n"
     ]
    },
    {
     "data": {
      "text/plain": [
       "[{'model': 'RandomForestRegressor',\n",
       "  'kaggle_score': 0.14686040645660278,\n",
       "  'y_pred': array([128603.  , 157906.5 , 184263.  , ..., 156011.24, 115149.  ,\n",
       "         222536.77])},\n",
       " {'model': 'LinearRegression',\n",
       "  'kaggle_score': 0.21188772535392925,\n",
       "  'y_pred': array([113068.2944287 , 151525.9021414 , 187273.11868348, ...,\n",
       "         179460.84154476, 107920.69599968, 221929.30751364])},\n",
       " {'model': 'Ridge',\n",
       "  'kaggle_score': 0.19020278483904776,\n",
       "  'y_pred': array([106292.31790174, 146202.81484171, 177286.01635399, ...,\n",
       "         161384.03011237, 100905.76470667, 222615.27847833])},\n",
       " {'model': 'RidgeCV',\n",
       "  'kaggle_score': 0.15000408656340605,\n",
       "  'y_pred': array([103486.21749693, 146937.86224909, 173533.91012636, ...,\n",
       "         157744.46566913, 100555.1504879 , 226342.20641187])},\n",
       " {'model': 'LassoCV',\n",
       "  'kaggle_score': 0.13857216558665356,\n",
       "  'y_pred': array([111422.99640262, 153481.3975303 , 177455.7154778 , ...,\n",
       "         164361.33813388, 107104.62341241, 224445.70090939])},\n",
       " {'model': 'ElasticNet',\n",
       "  'kaggle_score': 0.14992771409512443,\n",
       "  'y_pred': array([116797.63397022, 157177.8529056 , 187336.45963958, ...,\n",
       "         183178.16062079, 110687.07729151, 237534.92039244])},\n",
       " {'model': 'SGDRegressor',\n",
       "  'kaggle_score': 0.14963843307084598,\n",
       "  'y_pred': array([100459.23195134, 152481.56905243, 168103.08621824, ...,\n",
       "         160661.12911843, 103797.65447907, 225658.21658092])}]"
      ]
     },
     "execution_count": 22,
     "metadata": {},
     "output_type": "execute_result"
    }
   ],
   "source": [
    "models = [\n",
    "    RandomForestRegressor(random_state=42),\n",
    "    LinearRegression(),\n",
    "    Ridge(),\n",
    "    RidgeCV(),\n",
    "    LassoCV(),\n",
    "    ElasticNet(),\n",
    "    SGDRegressor()\n",
    "]\n",
    "\n",
    "results = []\n",
    "\n",
    "for model in models:\n",
    "    result = fit_evaluate(model)\n",
    "    results.append(result)\n",
    "    \n",
    "results"
   ]
  },
  {
   "cell_type": "code",
   "execution_count": 29,
   "metadata": {},
   "outputs": [
    {
     "name": "stdout",
     "output_type": "stream",
     "text": [
      "Submission saved.\n",
      "Warning: Looks like you're using an outdated API Version, please consider updating (server 1.5.9 / client 1.5.8)\n",
      "Successfully submitted to House Prices: Advanced Regression Techniques\n"
     ]
    }
   ],
   "source": [
    "# submit_score_to_kaggle(results[4][\"y_pred\"], \"submission_lasso_cv_pipe\", \"First submission after setting up pipelines, and fitting multiple models at once.\")\n"
   ]
  },
  {
   "cell_type": "code",
   "execution_count": 13,
   "metadata": {},
   "outputs": [
    {
     "name": "stdout",
     "output_type": "stream",
     "text": [
      "load_train_data: done\n",
      "load_test_data: done\n",
      "mean score: 0.14594647920349874, all cv scores:[0.13972054 0.15315697 0.14414612 0.1371902  0.15551856]\n"
     ]
    }
   ],
   "source": [
    "X_train, y_train = load_train_data()\n",
    "X_test, _ = load_test_data()\n",
    "rf = RandomForestRegressor(random_state=42)\n",
    "pipe = get_pipe(rf)\n",
    "scores = cross_val_score(pipe, X_train, y_train, scoring=rmsle_scorer)\n",
    "print(f\"mean score: {np.mean(-scores)}, all cv scores:{-scores}\")"
   ]
  }
 ],
 "metadata": {
  "kernelspec": {
   "display_name": "kaggle",
   "language": "python",
   "name": "kaggle"
  },
  "language_info": {
   "codemirror_mode": {
    "name": "ipython",
    "version": 3
   },
   "file_extension": ".py",
   "mimetype": "text/x-python",
   "name": "python",
   "nbconvert_exporter": "python",
   "pygments_lexer": "ipython3",
   "version": "3.8.6"
  }
 },
 "nbformat": 4,
 "nbformat_minor": 4
}
